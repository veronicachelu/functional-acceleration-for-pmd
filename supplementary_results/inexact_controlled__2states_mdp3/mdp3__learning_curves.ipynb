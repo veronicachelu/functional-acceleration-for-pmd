{
 "cells": [
  {
   "cell_type": "code",
   "execution_count": 1,
   "id": "initial_id",
   "metadata": {
    "collapsed": true,
    "ExecuteTime": {
     "end_time": "2024-05-10T23:42:25.866101Z",
     "start_time": "2024-05-10T23:42:25.849563Z"
    }
   },
   "outputs": [],
   "source": [
    "import numpy as np\n",
    "import os\n",
    "import matplotlib.pyplot as plt\n",
    "from jupyterthemes import jtplot\n",
    "import importlib\n",
    "# Set Jupyter theme\n",
    "jtplot.style(theme='grade3', context='paper', ticks=True, grid=False)\n",
    "\n",
    "# Configure inline figure format\n",
    "%config InlineBackend.figure_format = 'retina'\n",
    "\n",
    "# Update matplotlib font settings\n",
    "\n",
    "plt.rcParams.update({'font.size': 12,  # Adjust font size as needed\n",
    "                     \"mathtext.fontset\": 'cm',\n",
    "                     \"text.usetex\": False,\n",
    "                     \"axes.labelcolor\":  \"gray\",\n",
    "                     \"axes.edgecolor\":  \"gray\",\n",
    "                     \"axes.spines.left\":   True,  # display axis spines\n",
    "                     \"axes.spines.bottom\": True,\n",
    "                     \"axes.spines.top\":    False,\n",
    "                     \"axes.spines.right\":  False,\n",
    "                     \"xtick.color\":       \"gray\",\n",
    "                     \"ytick.color\":     \"gray\",\n",
    "                     \"xtick.major.size\":       0,\n",
    "                     \"ytick.major.size\":     0,\n",
    "                     \"xtick.major.pad\":       5,\n",
    "                     \"ytick.major.pad\":     5,\n",
    "                     \"legend.fancybox\":      True,\n",
    "                     \"legend.labelcolor\":  \"gray\",\n",
    "                     })  # Set font family for math text\n",
    "\n",
    "# If you are reloading modules, you may need to use importlib.reload()\n",
    "# importlib.reload(module_name)"
   ]
  },
  {
   "cell_type": "code",
   "outputs": [],
   "source": [
    "import src.markovchain\n",
    "src.markovchain = importlib.reload(src.markovchain)\n",
    "import src.mrp\n",
    "src.mrp = importlib.reload(src.mrp)\n",
    "import src.mdp\n",
    "src.mdp = importlib.reload(src.mdp)\n",
    "import src.tiny_mdps\n",
    "src.tiny_mdps = importlib.reload(src.tiny_mdps)\n",
    "mdps = []\n",
    "mdp_eg_no = 3\n",
    "for mdp_no in [mdp_eg_no]:\n",
    "    mdp = src.tiny_mdps.load_example(mdp_no)\n",
    "    mdps.append(mdp)\n",
    "%matplotlib inline"
   ],
   "metadata": {
    "collapsed": false,
    "ExecuteTime": {
     "end_time": "2024-05-10T23:42:28.822587Z",
     "start_time": "2024-05-10T23:42:25.870101Z"
    }
   },
   "id": "c71b54cbb7b2fade",
   "execution_count": 2
  },
  {
   "cell_type": "code",
   "outputs": [],
   "source": [
    "initial_policy_list = [\"random_uniform\"]\n",
    "initial_policy_labels_list = [ r'\\text{random}']\n",
    "Ts = [10, 50, 100]\n",
    "nk_list = [1, 10, 50]\n",
    "k_list = [1, 10, 50]\n",
    "tau_list = [0., 0.2, 0.5]\n",
    "optimism_decay = 1.\n",
    "n_seeds = 50"
   ],
   "metadata": {
    "collapsed": false,
    "ExecuteTime": {
     "end_time": "2024-05-10T23:42:28.823375Z",
     "start_time": "2024-05-10T23:42:28.679281Z"
    }
   },
   "id": "576d610d0f1d30e9",
   "execution_count": 3
  },
  {
   "cell_type": "code",
   "outputs": [],
   "source": [
    "from src import runner\n",
    "# Reload the runner module if needed\n",
    "runner = importlib.reload(runner)\n",
    "# Initialize lists to store parameters, generators, and data\n",
    "pmd = []\n",
    "for tau_ind, tau in enumerate(tau_list):\n",
    "    pmd_tau = []\n",
    "    for k in k_list:\n",
    "        sweep_params = {\n",
    "            \"seed\": np.arange(n_seeds),\n",
    "            \"num_iter\": [Ts[tau_ind]],\n",
    "            \"k\": [k],\n",
    "            \"policy_improvement_type\": [\"PMD\"],\n",
    "            \"tau_mean1\": [0.],\n",
    "            \"tau_scale1\": [tau],\n",
    "            \"save_logs\": [True],\n",
    "            \"load_logs\": [True],\n",
    "            \"experiment_name\": [\"inexact__controlled\"],\n",
    "        }\n",
    "        base_log_dir_inner = os.path.join(f\"__tau_{tau}\", f\"__k_{k}\")\n",
    "        pmd_k = runner.batch_run_alg(mdps, \"initial_policy\", initial_policy_list, \"optimization\", sweep_params, base_log_dir=base_log_dir_inner)\n",
    "        pmd_tau.append(pmd_k)\n",
    "    pmd.append(pmd_tau)"
   ],
   "metadata": {
    "collapsed": false
   },
   "id": "5055ef366b1a78ca",
   "execution_count": null
  },
  {
   "cell_type": "code",
   "outputs": [],
   "source": [
    "from src import runner\n",
    "# Reload the runner module if needed\n",
    "runner = importlib.reload(runner)\n",
    "# Initialize lists to store parameters, generators, and data\n",
    "lazy_momentum = []\n",
    "for tau_ind, tau in enumerate(tau_list):\n",
    "    base_log_dir_outer = f\"__tau_{tau}\"\n",
    "    lazy_momentum_tau = []\n",
    "    for nk in nk_list:\n",
    "        lazy_momentum_k = []\n",
    "        sweep_params = {\n",
    "            \"seed\": np.arange(n_seeds),\n",
    "            \"num_iter\": [Ts[tau_ind]],\n",
    "            \"k\": [nk],\n",
    "            \"n\": [0],\n",
    "            \"policy_improvement_type\": [\"PMD(+lazy_momentum)\"],\n",
    "            \"tau_mean1\": [0.],\n",
    "            \"tau_scale1\": [tau],\n",
    "            \"optimism_decay\": [optimism_decay],\n",
    "            \"save_logs\": [True],\n",
    "            \"load_logs\": [True],\n",
    "            \"experiment_name\": [\"inexact__controlled\"],\n",
    "        }\n",
    "        base_log_dir_inner = os.path.join(base_log_dir_outer, f\"__nk_{nk}\")\n",
    "        lazy_momentum_nk = runner.batch_run_alg(mdps, \"initial_policy\", initial_policy_list, \"optimization\", sweep_params, base_log_dir=base_log_dir_inner)\n",
    "        lazy_momentum_tau.append(lazy_momentum_nk)\n",
    "    lazy_momentum.append(lazy_momentum_tau)\n",
    "    # '/Users/ver/functional-acceleration/src/../logs/inexact__controlled/PMD(+lazy_momentum)/__tau_0.5/__nk_50/__mdp_0/__initial_policy_random_uniform/__seed_49/config.yaml'."
   ],
   "metadata": {
    "collapsed": false
   },
   "id": "b4ecc75d0b48a5df",
   "execution_count": null
  },
  {
   "cell_type": "code",
   "outputs": [],
   "source": [
    "from src import runner\n",
    "# Reload the runner module if needed\n",
    "runner = importlib.reload(runner)\n",
    "# Initialize lists to store parameters, generators, and data\n",
    "pi = []\n",
    "for tau_ind, tau in enumerate(tau_list):\n",
    "    sweep_params = {\n",
    "        \"seed\": np.arange(n_seeds),\n",
    "        \"num_iter\": [Ts[tau_ind]],\n",
    "        \"policy_improvement_type\": [\"PI\"],\n",
    "        \"tau_mean1\": [0.],\n",
    "        \"tau_scale1\": [tau],\n",
    "        \"save_logs\": [True],\n",
    "        \"load_logs\": [True],\n",
    "        \"experiment_name\": [\"inexact__controlled\"],\n",
    "    }\n",
    "    base_log_dir = f\"__tau_{tau}\"\n",
    "    pi_tau = runner.batch_run_alg(mdps, \"initial_policy\", initial_policy_list, \"optimization\", sweep_params, base_log_dir=base_log_dir)\n",
    "    pi.append(pi_tau)"
   ],
   "metadata": {
    "collapsed": false
   },
   "id": "76bdaf59e2f38f2d",
   "execution_count": null
  },
  {
   "cell_type": "code",
   "outputs": [],
   "source": [
    "import src.plot_tiny_mdps\n",
    "\n",
    "src.plot_tiny_mdps = importlib.reload(src.plot_tiny_mdps)\n",
    "from src.plot_tiny_mdps import plot_learning_curves\n",
    "import colormaps as cmaps\n",
    "initial_policy = 0\n",
    "\n",
    "newcmap3 = cmaps.WhiteGreen.shift(0.25).cut(0.25, \"right\").cut(0.25, \"left\")\n",
    "newcmap2 = cmaps.cet_l_kbc_r.shift(0.25).cut(0.5, \"right\")\n",
    "newcmap1 = cmaps.WhiteYellowOrangeRed.shift(0.25).cut(0.25, \"right\").cut(0.25, \"left\")\n",
    "\n",
    "cmaps = [newcmap3, newcmap2, newcmap1]\n",
    "data_list = []\n",
    "labels_list = []\n",
    "axline_data_list = []\n",
    "mdp_no = 0\n",
    "# Ts = [[5] * len(k_list), [10] * len(k_list),\n",
    "#       [15] * len(k_list), [40] * len(k_list),\n",
    "#       # [50] * len(k_list)]\n",
    "Ts = np.transpose([[50,  20, 5], [50, 30, 10], [50, 50, 40]])\n",
    "for kk, k in enumerate(k_list):\n",
    "    data_list_tau = []\n",
    "    labels_tau = []\n",
    "    axline_data_tau = []\n",
    "    for tau_ind, tau in enumerate(tau_list):\n",
    "        data_list_tau.append([pi[tau_ind][2][mdp_no][initial_policy],\n",
    "                      pmd[tau_ind][kk][2][mdp_no][initial_policy],\n",
    "                      lazy_momentum[tau_ind][kk][2][mdp_no][initial_policy]])\n",
    "        axline_data_tau.append(pmd[tau_ind][kk][1][mdp_no][initial_policy][0].v_star__rho)\n",
    "        labels_tau.append([f\"PI\", f\"PMD\", f\"PMD(+mom)\"])\n",
    "    data_list = [data_list_tau]\n",
    "    labels_list = [labels_tau]\n",
    "    axline_data_list = [axline_data_tau]\n",
    "    figname=f\"inexact_controlled_learning_curves_mdp3_k:{k}\"\n",
    "    plot_learning_curves(data_list, labels_list, x_list=tau_list,axline_data_list=axline_data_list,\n",
    "                         y_list=[k], n_seeds=n_seeds,cmaps=cmaps,\n",
    "                         Ts=[Ts[kk]], legendsize=16,ticklabelsize=11,textsize=14,labelsize=16, legend_bbox=(1.5, -0.3),\n",
    "                         savefig=True, figname=figname,\n",
    "                         )\n"
   ],
   "metadata": {
    "collapsed": false
   },
   "id": "2c4dba761c6878a3",
   "execution_count": null
  },
  {
   "cell_type": "code",
   "outputs": [],
   "source": [],
   "metadata": {
    "collapsed": false,
    "ExecuteTime": {
     "end_time": "2024-05-10T23:43:10.747846Z",
     "start_time": "2024-05-10T23:43:10.746193Z"
    }
   },
   "id": "46412b7c6a97d849",
   "execution_count": 7
  },
  {
   "cell_type": "code",
   "outputs": [],
   "source": [],
   "metadata": {
    "collapsed": false,
    "ExecuteTime": {
     "end_time": "2024-05-10T23:43:10.747958Z",
     "start_time": "2024-05-10T23:43:10.746415Z"
    }
   },
   "id": "42703a643864122",
   "execution_count": 7
  }
 ],
 "metadata": {
  "kernelspec": {
   "display_name": "Python 3",
   "language": "python",
   "name": "python3"
  },
  "language_info": {
   "codemirror_mode": {
    "name": "ipython",
    "version": 2
   },
   "file_extension": ".py",
   "mimetype": "text/x-python",
   "name": "python",
   "nbconvert_exporter": "python",
   "pygments_lexer": "ipython2",
   "version": "2.7.6"
  }
 },
 "nbformat": 4,
 "nbformat_minor": 5
}
