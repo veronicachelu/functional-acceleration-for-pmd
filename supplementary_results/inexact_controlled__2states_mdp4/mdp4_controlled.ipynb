{
 "cells": [
  {
   "cell_type": "code",
   "outputs": [],
   "source": [
    "import numpy as np\n",
    "import os\n",
    "import matplotlib.pyplot as plt\n",
    "from jupyterthemes import jtplot\n",
    "import importlib\n",
    "# Set Jupyter theme\n",
    "jtplot.style(theme='grade3', context='paper', ticks=True, grid=False)\n",
    "\n",
    "# Configure inline figure format\n",
    "%config InlineBackend.figure_format = 'retina'\n",
    "\n",
    "# Update matplotlib font settings\n",
    "\n",
    "plt.rcParams.update({'font.size': 12,  # Adjust font size as needed\n",
    "                     \"mathtext.fontset\": 'cm',\n",
    "                     \"text.usetex\": False,\n",
    "                     \"axes.labelcolor\":  \"gray\",\n",
    "                     \"axes.edgecolor\":  \"gray\",\n",
    "                     \"axes.spines.left\":   True,  # display axis spines\n",
    "                     \"axes.spines.bottom\": True,\n",
    "                     \"axes.spines.top\":    False,\n",
    "                     \"axes.spines.right\":  False,\n",
    "                     \"xtick.color\":       \"gray\",\n",
    "                     \"ytick.color\":     \"gray\",\n",
    "                     \"xtick.major.size\":       0,\n",
    "                     \"ytick.major.size\":     0,\n",
    "                     \"xtick.major.pad\":       5,\n",
    "                     \"ytick.major.pad\":     5,\n",
    "                     \"legend.fancybox\":      True,\n",
    "                     \"legend.labelcolor\":  \"gray\",\n",
    "                     })  # Set font family for math text\n",
    "\n",
    "# If you are reloading modules, you may need to use importlib.reload()\n",
    "# importlib.reload(module_name)"
   ],
   "metadata": {
    "collapsed": true,
    "ExecuteTime": {
     "end_time": "2024-05-12T23:22:29.248848Z",
     "start_time": "2024-05-12T23:22:26.066593Z"
    }
   },
   "id": "initial_id",
   "execution_count": 1
  },
  {
   "cell_type": "code",
   "outputs": [],
   "source": [
    "import src.markovchain\n",
    "src.markovchain = importlib.reload(src.markovchain)\n",
    "import src.mrp\n",
    "src.mrp = importlib.reload(src.mrp)\n",
    "import src.mdp\n",
    "src.mdp = importlib.reload(src.mdp)\n",
    "import src.tiny_mdps\n",
    "src.tiny_mdps = importlib.reload(src.tiny_mdps)\n",
    "mdps = []\n",
    "mdp_eg_no = 4\n",
    "for mdp_no in [mdp_eg_no]:\n",
    "    mdp = src.tiny_mdps.load_example(mdp_no)\n",
    "    mdps.append(mdp)\n",
    "%matplotlib inline"
   ],
   "metadata": {
    "collapsed": false,
    "ExecuteTime": {
     "end_time": "2024-05-12T23:22:31.089441Z",
     "start_time": "2024-05-12T23:22:29.254823Z"
    }
   },
   "id": "2f1c3fab75505743",
   "execution_count": 2
  },
  {
   "cell_type": "code",
   "outputs": [],
   "source": [
    "initial_policy_list = [\"random_uniform\"]\n",
    "initial_policy_list_indices = [0]\n",
    "initial_policy_labels_list = [ r'\\text{center}']\n",
    "T = 50\n",
    "k_list = [1, 10, 50]\n",
    "nk_list = [1,10, 50]\n",
    "n_list = [1, 10, 50]\n",
    "tau1_list = [0., 0.5, 1.]\n",
    "optimism_decay = 1.\n",
    "n_seeds = 50"
   ],
   "metadata": {
    "collapsed": false,
    "ExecuteTime": {
     "end_time": "2024-05-12T23:22:31.100323Z",
     "start_time": "2024-05-12T23:22:31.091569Z"
    }
   },
   "id": "b8842f52b57383bb",
   "execution_count": 3
  },
  {
   "cell_type": "code",
   "outputs": [],
   "source": [
    "from src import runner\n",
    "# Reload the runner module if needed\n",
    "runner = importlib.reload(runner)\n",
    "# Initialize lists to store parameters, generators, and data\n",
    "pi = []\n",
    "for tau1 in tau1_list:\n",
    "    sweep_params = {\n",
    "        \"seed\": np.arange(n_seeds),\n",
    "        \"num_iter\": [T],\n",
    "        \"policy_improvement_type\": [\"PI\"],\n",
    "        \"tau_mean1\": [0.],\n",
    "        \"tau_scale1\": [tau1],\n",
    "        \"experiment_name\": [f\"inexact__controlled_mdp{mdp_eg_no}\"],\n",
    "        \"save_logs\": [True],\n",
    "        \"load_logs\": [True]\n",
    "    }\n",
    "    base_log_dir = f\"__tau_{tau1}\"\n",
    "    pi_tau = runner.batch_run_alg(mdps, \"initial_policy\", initial_policy_list, \"optimization\", sweep_params, base_log_dir=base_log_dir)\n",
    "    pi.append(pi_tau)"
   ],
   "metadata": {
    "collapsed": false
   },
   "id": "267429556be5c77d",
   "execution_count": null
  },
  {
   "cell_type": "code",
   "outputs": [],
   "source": [
    "import os\n",
    "from src import runner\n",
    "# Reload the runner module if needed\n",
    "runner = importlib.reload(runner)\n",
    "# Initialize lists to store parameters, generators, and data\n",
    "pmd = []\n",
    "for tau1 in tau1_list:\n",
    "    pmd_tau = []\n",
    "    for k in k_list:\n",
    "        sweep_params = {\n",
    "            \"seed\": np.arange(n_seeds),\n",
    "            \"num_iter\": [T],\n",
    "            \"k\": [k],\n",
    "            \"policy_improvement_type\": [\"PMD\"],\n",
    "            \"tau_mean1\": [0.],\n",
    "            \"tau_scale1\": [tau1],\n",
    "            \"experiment_name\": [f\"inexact__controlled_mdp{mdp_eg_no}\"],\n",
    "            \"save_logs\": [True],\n",
    "            \"load_logs\": [True]\n",
    "        }\n",
    "        base_log_dir = os.path.join(f\"__tau_{tau1}\", f\"__k_{k}\")\n",
    "        pmd_k = runner.batch_run_alg(mdps, \"initial_policy\", initial_policy_list, \"optimization\", sweep_params, base_log_dir=base_log_dir)\n",
    "        pmd_tau.append(pmd_k)\n",
    "    pmd.append(pmd_tau)"
   ],
   "metadata": {
    "collapsed": false
   },
   "id": "57ef2feb87f488e8",
   "execution_count": null
  },
  {
   "cell_type": "code",
   "outputs": [],
   "source": [
    "from src import runner\n",
    "# Reload the runner module if needed\n",
    "runner = importlib.reload(runner)\n",
    "# Initialize lists to store parameters, generators, and data\n",
    "lazy_momentum = []\n",
    "for tau1 in tau1_list:\n",
    "    lazy_momentum_tau = []\n",
    "    for nk in nk_list:\n",
    "        lazy_momentum_k = []\n",
    "        sweep_params = {\n",
    "            \"seed\": np.arange(n_seeds),\n",
    "            \"num_iter\": [T],\n",
    "            \"k\": [nk],\n",
    "            \"n\": [0],\n",
    "            \"policy_improvement_type\": [\"PMD(+lazy_momentum)\"],\n",
    "            \"tau_mean1\": [0.],\n",
    "            \"tau_scale1\": [tau1],\n",
    "            \"optimism_decay\": [optimism_decay],\n",
    "            \"experiment_name\": [f\"inexact__controlled_mdp{mdp_eg_no}\"],\n",
    "            \"save_logs\": [True],\n",
    "            \"load_logs\": [True]\n",
    "        }\n",
    "        base_log_dir = os.path.join(f\"__tau_{tau1}\", f\"__nk_{nk}\")\n",
    "        lazy_momentum_nk = runner.batch_run_alg(mdps, \"initial_policy\", initial_policy_list, \"optimization\", sweep_params, base_log_dir=base_log_dir)\n",
    "        lazy_momentum_tau.append(lazy_momentum_nk)\n",
    "    lazy_momentum.append(lazy_momentum_tau)"
   ],
   "metadata": {
    "collapsed": false
   },
   "id": "28f12aea2d98e937",
   "execution_count": null
  },
  {
   "cell_type": "code",
   "outputs": [
    {
     "name": "stdout",
     "output_type": "stream",
     "text": [
      "6.495270199351642\n",
      "7.514238680290548\n",
      "9.663690622355471\n",
      "0.9182637183943283\n",
      "3.7352594838718955\n",
      "7.295113113951203\n",
      "0.12139646952732437\n",
      "4.096934435920402\n",
      "7.909553827357259\n"
     ]
    },
    {
     "data": {
      "text/plain": "<Figure size 600x200 with 3 Axes>",
      "image/png": "[encoded data removed]"
     },
     "metadata": {
      "image/png": {
       "width": 530,
       "height": 237
      }
     },
     "output_type": "display_data"
    }
   ],
   "source": [
    "import matplotlib.pyplot as plt\n",
    "import numpy as np\n",
    "import colormaps as cmaps\n",
    "import src.plot_tiny_mdps\n",
    "src.plot_tiny_mdps = importlib.reload(src.plot_tiny_mdps)\n",
    "import src.plot_tiny_mdps\n",
    "from src.plot_tiny_mdps import plot_multiple_bars\n",
    "initial_policy = 0\n",
    "Ts = [50, 50, 50]\n",
    "newcmap3 = cmaps.WhiteGreen.shift(0.25).cut(0.25, \"right\").cut(0.25, \"left\")\n",
    "newcmap2 = cmaps.cet_l_kbc_r.shift(0.25).cut(0.5, \"right\")\n",
    "newcmap1 = cmaps.WhiteYellowOrangeRed.shift(0.25).cut(0.25, \"right\").cut(0.25, \"left\")\n",
    "from collections import defaultdict\n",
    "mdp_no = 0\n",
    "mdp = mdps[mdp_no]\n",
    "data_list = []\n",
    "subset_k_list = [1, 10, 50]\n",
    "for kk, k in enumerate(k_list):\n",
    "    if k in subset_k_list:\n",
    "        data = defaultdict(list)\n",
    "        for tau_ind, tau in enumerate(tau1_list):\n",
    "            vals_pi = []\n",
    "            for i in range(n_seeds):\n",
    "                vals_pi.append(np.cumsum(pi[tau_ind][2][mdp_no][initial_policy][i][\"suboptimality_tp1__rho\"][:T])[-1])\n",
    "            std = np.std(vals_pi, axis=0)\n",
    "            v_rho_pi_std = np.max(std, 0)\n",
    "            v_rho_pi_mean = np.mean(vals_pi, axis=0)\n",
    "    \n",
    "            vals_pmd = []\n",
    "            for i in range(n_seeds):\n",
    "                vals_pmd.append(np.cumsum(pmd[tau_ind][kk][2][mdp_no][initial_policy][i][\"suboptimality_tp1__rho\"][:T])[-1])\n",
    "            std = np.std(vals_pmd, axis=0)\n",
    "            v_rho_pmd_std = std #np.max(std, 0)\n",
    "            v_rho_pmd_mean = np.mean(vals_pmd, axis=0)\n",
    "    \n",
    "            vals_mom = []\n",
    "            for i in range(n_seeds):\n",
    "                vals_mom.append(np.cumsum(lazy_momentum[tau_ind][kk][2][mdp_no][initial_policy][i][\"suboptimality_tp1__rho\"][:T])[-1])\n",
    "            std = np.std(vals_mom, axis=0)\n",
    "            v_rho_mom_std = np.max(std, 0)\n",
    "            v_rho_mom_mean = np.mean(vals_mom, axis=0)\n",
    "    \n",
    "            data[f\"PI\"].append((v_rho_pi_mean, v_rho_pi_std))\n",
    "            data[f\"PMD\"].append((v_rho_pmd_mean, v_rho_pmd_std))\n",
    "            data[f\"PMD(+mom)\"].append((v_rho_mom_mean, v_rho_mom_std))\n",
    "        data_list.append(data)\n",
    "\n",
    "hatches = {f\"PI\": 'x',\n",
    "           f\"PMD\": \"///\",\n",
    "           f\"PMD(+mom)\": '\\\\'\n",
    "           }\n",
    "colors = {f\"PI\": newcmap3, f\"PMD\": newcmap2,\n",
    "          f\"PMD(+mom)\": newcmap1}\n",
    "y_label = r'$\\operatorname{Regret}_T$'\n",
    "tau_label = r'\\tau'\n",
    "x_label_list=[f\"${tau_label}$\\n{['(i)','(ii)','(iii)'][kk]} $k:{k}$\" for kk,k in enumerate(subset_k_list)]\n",
    "plot_multiple_bars(data_list, tau1_list, colors, hatches,\n",
    "                   labelsize=14, textsize=13,\n",
    "                   legendsize=13,\n",
    "                   ticklabelsize=12, y_label=y_label, x_label_list=x_label_list,figname=f\"inexact__controlled___summary_mdp{mdp_eg_no}\", savefig=True)"
   ],
   "metadata": {
    "collapsed": false,
    "ExecuteTime": {
     "end_time": "2024-05-12T23:44:28.852734Z",
     "start_time": "2024-05-12T23:44:24.964324Z"
    }
   },
   "id": "ca9641257f7e3fe4",
   "execution_count": 8
  },
  {
   "cell_type": "code",
   "outputs": [],
   "source": [],
   "metadata": {
    "collapsed": false,
    "ExecuteTime": {
     "end_time": "2024-05-12T23:36:05.084320Z",
     "start_time": "2024-05-12T23:36:05.067321Z"
    }
   },
   "id": "38dc2246bd6864e9",
   "execution_count": 7
  }
 ],
 "metadata": {
  "kernelspec": {
   "display_name": "Python 3",
   "language": "python",
   "name": "python3"
  },
  "language_info": {
   "codemirror_mode": {
    "name": "ipython",
    "version": 2
   },
   "file_extension": ".py",
   "mimetype": "text/x-python",
   "name": "python",
   "nbconvert_exporter": "python",
   "pygments_lexer": "ipython2",
   "version": "2.7.6"
  }
 },
 "nbformat": 4,
 "nbformat_minor": 5
}
